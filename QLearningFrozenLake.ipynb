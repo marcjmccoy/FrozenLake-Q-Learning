{
  "nbformat": 4,
  "nbformat_minor": 0,
  "metadata": {
    "colab": {
      "name": "assignment9_30136987.ipynb",
      "provenance": [],
      "collapsed_sections": []
    },
    "kernelspec": {
      "name": "python3",
      "display_name": "Python 3"
    },
    "language_info": {
      "name": "python"
    }
  },
  "cells": [
    {
      "cell_type": "code",
      "execution_count": 2,
      "metadata": {
        "colab": {
          "base_uri": "https://localhost:8080/"
        },
        "id": "VzU_5TSfSspZ",
        "outputId": "ccfe7bab-6c8d-4e55-9e40-a8e14da153e7"
      },
      "outputs": [
        {
          "output_type": "stream",
          "name": "stdout",
          "text": [
            "Requirement already satisfied: gym in /usr/local/lib/python3.7/dist-packages (0.17.3)\n",
            "Requirement already satisfied: pyglet<=1.5.0,>=1.4.0 in /usr/local/lib/python3.7/dist-packages (from gym) (1.5.0)\n",
            "Requirement already satisfied: cloudpickle<1.7.0,>=1.2.0 in /usr/local/lib/python3.7/dist-packages (from gym) (1.3.0)\n",
            "Requirement already satisfied: scipy in /usr/local/lib/python3.7/dist-packages (from gym) (1.4.1)\n",
            "Requirement already satisfied: numpy>=1.10.4 in /usr/local/lib/python3.7/dist-packages (from gym) (1.21.5)\n",
            "Requirement already satisfied: future in /usr/local/lib/python3.7/dist-packages (from pyglet<=1.5.0,>=1.4.0->gym) (0.16.0)\n"
          ]
        }
      ],
      "source": [
        "!pip install gym"
      ]
    },
    {
      "cell_type": "code",
      "source": [
        "import gym\n",
        "import numpy as np\n",
        "import random\n",
        "from IPython.display import clear_output"
      ],
      "metadata": {
        "id": "IfPY7nruSuUo"
      },
      "execution_count": 3,
      "outputs": []
    },
    {
      "cell_type": "code",
      "source": [
        "#S F F F       (S: starting point, safe)\n",
        "#F H F H       (F: frozen surface, safe)\n",
        "#F F F H       (H: hole, stuck forever)\n",
        "#H F F G       (G: goal, safe)\n",
        "\n",
        "#position of the agent is the red rectangle\n",
        "#the way the environment is explained in the assignment assumes that we are using the \"slippery\" version\n",
        "\n",
        "env = gym.make(\"FrozenLake-v0\", is_slippery=True).env\n",
        "env.reset()\n",
        "env.render()"
      ],
      "metadata": {
        "colab": {
          "base_uri": "https://localhost:8080/"
        },
        "id": "iydUllf5Svg9",
        "outputId": "d794190e-22b6-49a5-8cd7-34a090b0dddf"
      },
      "execution_count": 4,
      "outputs": [
        {
          "output_type": "stream",
          "name": "stdout",
          "text": [
            "\n",
            "\u001b[41mS\u001b[0mFFF\n",
            "FHFH\n",
            "FFFH\n",
            "HFFG\n"
          ]
        }
      ]
    },
    {
      "cell_type": "code",
      "source": [
        "q_table = np.zeros([env.observation_space.n, env.action_space.n])\n",
        "\n",
        "# Hyperparameters\n",
        "alpha = 0.1\n",
        "gamma = 0.95\n",
        "epsilon = 1.0 \n",
        "epsilon_decay = 0.001\n",
        "episodes = 100000\n",
        "\n",
        "# For plotting metrics\n",
        "total_epochs = 0\n",
        "outcomes = []\n",
        "\n",
        "for i in range(episodes):\n",
        "    state = env.reset()\n",
        "\n",
        "    # By default, we consider our outcome to be a failure\n",
        "    outcomes.append(\"Failure\")\n",
        "\n",
        "    epochs, penalties, reward, = 0, 0, 0\n",
        "    done = False\n",
        "    \n",
        "    while not done:\n",
        "        if random.uniform(0, 1) < epsilon:\n",
        "            action = env.action_space.sample() # Explore action space\n",
        "        else:\n",
        "            action = np.argmax(q_table[state]) # Exploit learned values\n",
        "\n",
        "        next_state, reward, done, info = env.step(action) \n",
        "        \n",
        "        old_value = q_table[state, action]\n",
        "        next_max = np.max(q_table[next_state])\n",
        "        \n",
        "        new_value = (1 - alpha) * old_value + alpha * (reward + gamma * next_max)\n",
        "        q_table[state, action] = new_value\n",
        "        \n",
        "        state = next_state\n",
        "        \n",
        "        # If we have a reward, it means that our outcome is a success\n",
        "        if reward:\n",
        "          outcomes[-1] = \"Success\"\n",
        "        \n",
        "        epochs += 1\n",
        "    \n",
        "    total_epochs += epochs\n",
        "\n",
        "    # Update epsilon\n",
        "    epsilon = max(epsilon - epsilon_decay, 0)\n",
        "\n",
        "    if i % 100 == 0:\n",
        "        clear_output(wait=True)\n",
        "        print(f\"Episode: {i}\")\n",
        "\n",
        "print(\"100,000 Episodes are Done:\")\n",
        "print('===========================================\\n')\n",
        "print(f\"Results after {episodes} episodes:\\n\")\n",
        "print('Final Q-table:')\n",
        "print(q_table)\n",
        "print('\\n')\n",
        "print(f\"Average timesteps per episode: {total_epochs / episodes}\")\n",
        "print(f'\"Success\" occured {outcomes.count(\"Success\")} time(s)')\n",
        "print(f'\"Failure\" occured {outcomes.count(\"Failure\")} time(s)')"
      ],
      "metadata": {
        "colab": {
          "base_uri": "https://localhost:8080/"
        },
        "id": "Wmm3GkTvSz4U",
        "outputId": "83c72191-5cab-4ca6-9cc1-7b860a55aec2"
      },
      "execution_count": 5,
      "outputs": [
        {
          "output_type": "stream",
          "name": "stdout",
          "text": [
            "Episode: 99900\n",
            "100,000 Episodes are Done:\n",
            "===========================================\n",
            "\n",
            "Results after 100000 episodes:\n",
            "\n",
            "Final Q-table:\n",
            "[[0.17729681 0.10848999 0.10848036 0.10852488]\n",
            " [0.06681803 0.01612028 0.04937371 0.15977315]\n",
            " [0.14752665 0.07834129 0.05451075 0.03847484]\n",
            " [0.00319018 0.03950916 0.00557526 0.00411083]\n",
            " [0.20370253 0.11222863 0.1076757  0.1157015 ]\n",
            " [0.         0.         0.         0.        ]\n",
            " [0.17493781 0.03881005 0.03939764 0.02387834]\n",
            " [0.         0.         0.         0.        ]\n",
            " [0.13253522 0.13438265 0.13188479 0.2598918 ]\n",
            " [0.18175355 0.36447427 0.17536933 0.19372814]\n",
            " [0.37902293 0.18752287 0.12971971 0.13883331]\n",
            " [0.         0.         0.         0.        ]\n",
            " [0.         0.         0.         0.        ]\n",
            " [0.22474883 0.25069184 0.51268879 0.29840393]\n",
            " [0.34937051 0.69754228 0.45076112 0.44940476]\n",
            " [0.         0.         0.         0.        ]]\n",
            "\n",
            "\n",
            "Average timesteps per episode: 42.94798\n",
            "\"Success\" occured 77238 time(s)\n",
            "\"Failure\" occured 22762 time(s)\n"
          ]
        }
      ]
    },
    {
      "cell_type": "code",
      "source": [
        ""
      ],
      "metadata": {
        "id": "HfLhd780UlNG"
      },
      "execution_count": null,
      "outputs": []
    }
  ]
}